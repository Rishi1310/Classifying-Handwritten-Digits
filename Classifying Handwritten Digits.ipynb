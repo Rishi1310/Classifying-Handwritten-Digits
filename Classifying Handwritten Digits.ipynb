{
 "cells": [
  {
   "cell_type": "code",
   "execution_count": 211,
   "metadata": {
    "collapsed": true
   },
   "outputs": [],
   "source": [
    "import math\n",
    "import numpy as np\n",
    "import matplotlib.pyplot as plt\n",
    "import scipy\n",
    "from PIL import Image\n",
    "from scipy import ndimage\n",
    "import tensorflow as tf\n",
    "from tensorflow.python.framework import ops\n",
    "from tensorflow.examples.tutorials.mnist import input_data\n",
    "\n",
    "%matplotlib inline"
   ]
  },
  {
   "cell_type": "code",
   "execution_count": 194,
   "metadata": {
    "collapsed": true
   },
   "outputs": [],
   "source": [
    "def import_data():\n",
    "    \n",
    "    mnist = input_data.read_data_sets(\"MNIST_data/\", one_hot=False)\n",
    "\n",
    "    X_train = np.vstack([img.reshape(-1,) for img in mnist.train.images])\n",
    "    Y_train = mnist.train.labels\n",
    "\n",
    "    X_test = np.vstack([img.reshape(-1,) for img in mnist.test.images])\n",
    "    Y_test = mnist.test.labels\n",
    "\n",
    "    del mnist\n",
    "    \n",
    "    return X_train, Y_train, X_test, Y_test"
   ]
  },
  {
   "cell_type": "code",
   "execution_count": 195,
   "metadata": {
    "collapsed": true
   },
   "outputs": [],
   "source": [
    "def load_data():\n",
    "    X_train_orig, Y_train_orig, X_test_orig, Y_test_orig = import_data()\n",
    "    \n",
    "    X_train_orig = X_train_orig.reshape([-1 , 28,28,1])\n",
    "    X_test_orig = X_test_orig.reshape([-1 , 28,28,1])\n",
    "    \n",
    "    Y_train_orig = Y_train_orig.reshape([1,55000])\n",
    "    Y_test_orig = Y_test_orig.reshape([1, 10000])\n",
    "    \n",
    "    return X_train_orig, Y_train_orig, X_test_orig, Y_test_orig"
   ]
  },
  {
   "cell_type": "code",
   "execution_count": 196,
   "metadata": {},
   "outputs": [
    {
     "name": "stdout",
     "output_type": "stream",
     "text": [
      "Extracting MNIST_data/train-images-idx3-ubyte.gz\n",
      "Extracting MNIST_data/train-labels-idx1-ubyte.gz\n",
      "Extracting MNIST_data/t10k-images-idx3-ubyte.gz\n",
      "Extracting MNIST_data/t10k-labels-idx1-ubyte.gz\n"
     ]
    }
   ],
   "source": [
    "X_train, Y_train, X_test_orig, Y_test_orig = load_data()"
   ]
  },
  {
   "cell_type": "code",
   "execution_count": 197,
   "metadata": {},
   "outputs": [
    {
     "name": "stdout",
     "output_type": "stream",
     "text": [
      "y = 5\n"
     ]
    },
    {
     "data": {
      "image/png": "[encoded data removed]",
      "text/plain": [
       "<matplotlib.figure.Figure at 0x2035b3be0>"
      ]
     },
     "metadata": {},
     "output_type": "display_data"
    }
   ],
   "source": [
    "# Example of a picture\n",
    "index = 54997\n",
    "plt.imshow(X_train[index,:,:,-1])\n",
    "print (\"y = \" + str(np.squeeze(Y_train_orig[index])))"
   ]
  },
  {
   "cell_type": "code",
   "execution_count": 198,
   "metadata": {
    "collapsed": true
   },
   "outputs": [],
   "source": [
    "def convert_to_one_hot(Y, C):\n",
    "    Y = np.eye(C)[Y.reshape(-1)].T\n",
    "    return Y"
   ]
  },
  {
   "cell_type": "code",
   "execution_count": 199,
   "metadata": {
    "collapsed": true
   },
   "outputs": [],
   "source": [
    "Y_train = convert_to_one_hot(Y_train_orig, 10).T\n",
    "Y_test = convert_to_one_hot(Y_test_orig, 10).T"
   ]
  },
  {
   "cell_type": "code",
   "execution_count": 200,
   "metadata": {},
   "outputs": [
    {
     "name": "stdout",
     "output_type": "stream",
     "text": [
      "number of training examples = 55000\n",
      "number of test examples = 10000\n",
      "X_train shape: (55000, 28, 28, 1)\n",
      "Y_train shape: (55000, 10)\n",
      "X_test shape: (10000, 28, 28, 1)\n",
      "Y_test shape: (10000, 10)\n"
     ]
    }
   ],
   "source": [
    "#Sanity Check\n",
    "\n",
    "print (\"number of training examples = \" + str(X_train.shape[0]))\n",
    "print (\"number of test examples = \" + str(X_test.shape[0]))\n",
    "print (\"X_train shape: \" + str(X_train.shape))\n",
    "print (\"Y_train shape: \" + str(Y_train.shape))\n",
    "print (\"X_test shape: \" + str(X_test.shape))\n",
    "print (\"Y_test shape: \" + str(Y_test.shape))"
   ]
  },
  {
   "cell_type": "code",
   "execution_count": 201,
   "metadata": {
    "collapsed": true
   },
   "outputs": [],
   "source": [
    "def create_placeholders(n_H0, n_W0,n_C0, n_y):\n",
    "    X = tf.placeholder(tf.float32, [None, n_H0, n_W0,n_C0])\n",
    "    Y = tf.placeholder(tf.float32, [None, n_y])\n",
    "    return X, Y"
   ]
  },
  {
   "cell_type": "code",
   "execution_count": 202,
   "metadata": {
    "collapsed": true
   },
   "outputs": [],
   "source": [
    "def initialize_parameters():\n",
    "    \n",
    "    W1 = tf.get_variable(\"W1\", [2,2,1,8], initializer =  tf.contrib.layers.xavier_initializer(seed = 0))\n",
    "    W2 = tf.get_variable(\"W2\", [2,2,8,16], initializer =  tf.contrib.layers.xavier_initializer(seed = 0))\n",
    "    \n",
    "    parameters = {\"W1\": W1,\"W2\": W2}\n",
    "    \n",
    "    return parameters"
   ]
  },
  {
   "cell_type": "code",
   "execution_count": 203,
   "metadata": {},
   "outputs": [
    {
     "name": "stdout",
     "output_type": "stream",
     "text": [
      "W1 = [[ 0.24109346  0.35657108  0.18549132  0.36647755 -0.17853807  0.33154458\n",
      "  -0.11004141  0.27762729]]\n",
      "W2 = [ 0.18771225  0.02089775  0.00491112 -0.12298661 -0.04200333  0.13979024\n",
      "  0.05375856 -0.10530782 -0.15856427  0.19796973  0.04295498 -0.0471608\n",
      "  0.01342118  0.21189791  0.1855194  -0.13519925]\n"
     ]
    }
   ],
   "source": [
    "#Sanity Check\n",
    "\n",
    "tf.reset_default_graph()\n",
    "with tf.Session() as sess_test:\n",
    "    parameters = initialize_parameters()\n",
    "    init = tf.global_variables_initializer()\n",
    "    sess_test.run(init)\n",
    "    print(\"W1 = \" + str(parameters[\"W1\"].eval()[1,1]))\n",
    "    print(\"W2 = \" + str(parameters[\"W2\"].eval()[1,1,1]))"
   ]
  },
  {
   "cell_type": "code",
   "execution_count": 204,
   "metadata": {
    "collapsed": true
   },
   "outputs": [],
   "source": [
    "def forward_propagation(X, parameters):\n",
    "    W1 = parameters['W1']\n",
    "    W2 = parameters['W2']\n",
    "    \n",
    "    Z1 = tf.nn.conv2d(X,W1, strides = [1,1,1,1], padding = 'SAME')\n",
    "    A1 = tf.nn.relu(Z1)\n",
    "    P1 = tf.nn.max_pool(A1, ksize = [1,8,8,1], strides = [1,8,8,1], padding = 'SAME')\n",
    "    \n",
    "    Z2 = tf.nn.conv2d(P1,W2, strides = [1,1,1,1], padding = 'SAME')\n",
    "    A2 = tf.nn.relu(Z2)\n",
    "    P2 = tf.nn.max_pool(A2,ksize=[1,4,4,1], strides = [1,4,4,1], padding = 'SAME')\n",
    "    \n",
    "    P2 = tf.contrib.layers.flatten(P2)\n",
    "    Z3 = tf.contrib.layers.fully_connected(P2, 10, activation_fn = None)\n",
    "    \n",
    "    return Z3"
   ]
  },
  {
   "cell_type": "code",
   "execution_count": 205,
   "metadata": {},
   "outputs": [
    {
     "name": "stdout",
     "output_type": "stream",
     "text": [
      "Z3 = [[-1.28183305  1.94026053  2.64135027 -0.77912563  0.33307946  1.53637862\n",
      "  -0.53759336  0.59064651  0.5560841  -0.14027019]\n",
      " [-1.22697949  1.88026166  2.8098979  -1.02452683  0.63245475  1.53309321\n",
      "  -0.56476545  0.46089387  0.66751629 -0.17199142]]\n"
     ]
    }
   ],
   "source": [
    "#Sanity Check\n",
    "\n",
    "tf.reset_default_graph()\n",
    "\n",
    "with tf.Session() as sess:\n",
    "    X, Y = create_placeholders(28, 28, 1, 10)\n",
    "    parameters = initialize_parameters()\n",
    "    Z3 = forward_propagation(X, parameters)\n",
    "    init = tf.global_variables_initializer()\n",
    "    sess.run(init)\n",
    "    a = sess.run(Z3, {X: np.random.randn(2,28,28,1), Y: np.random.randn(2,10)})\n",
    "    print(\"Z3 = \" + str(a))"
   ]
  },
  {
   "cell_type": "code",
   "execution_count": 206,
   "metadata": {
    "collapsed": true
   },
   "outputs": [],
   "source": [
    "def compute_cost(Z3, Y):\n",
    "    \n",
    "    cost = tf.reduce_mean(tf.nn.softmax_cross_entropy_with_logits(logits = Z3, labels = Y))\n",
    "    \n",
    "    return cost"
   ]
  },
  {
   "cell_type": "code",
   "execution_count": 207,
   "metadata": {},
   "outputs": [
    {
     "name": "stdout",
     "output_type": "stream",
     "text": [
      "cost = 2.45957\n"
     ]
    }
   ],
   "source": [
    "#Sanity Check\n",
    "\n",
    "tf.reset_default_graph()\n",
    "\n",
    "with tf.Session() as sess:\n",
    "    X, Y = create_placeholders(28, 28, 1, 10)\n",
    "    parameters = initialize_parameters()\n",
    "    Z3 = forward_propagation(X, parameters)\n",
    "    cost = compute_cost(Z3, Y)\n",
    "    init = tf.global_variables_initializer()\n",
    "    sess.run(init)\n",
    "    a = sess.run(cost, {X: np.random.randn(4,28,28,1), Y: np.random.randn(4,10)})\n",
    "    print(\"cost = \" + str(a))"
   ]
  },
  {
   "cell_type": "code",
   "execution_count": 208,
   "metadata": {
    "collapsed": true
   },
   "outputs": [],
   "source": [
    "def random_mini_batches(X, Y, mini_batch_size = 100):\n",
    "        \n",
    "    m = X.shape[0]                  \n",
    "    mini_batches = []\n",
    "    \n",
    "    permutation = list(np.random.permutation(m))\n",
    "    shuffled_X = X[permutation,:,:,:]\n",
    "    shuffled_Y = Y[permutation,:]\n",
    "\n",
    "    num_complete_minibatches = math.floor(m/mini_batch_size)\n",
    "    for k in range(0, num_complete_minibatches):\n",
    "        mini_batch_X = shuffled_X[k * mini_batch_size : k * mini_batch_size + mini_batch_size,:,:,:]\n",
    "        mini_batch_Y = shuffled_Y[k * mini_batch_size : k * mini_batch_size + mini_batch_size,:]\n",
    "        mini_batch = (mini_batch_X, mini_batch_Y)\n",
    "        mini_batches.append(mini_batch)\n",
    "    \n",
    "    if m % mini_batch_size != 0:\n",
    "        mini_batch_X = shuffled_X[num_complete_minibatches * mini_batch_size : m,:,:,:]\n",
    "        mini_batch_Y = shuffled_Y[num_complete_minibatches * mini_batch_size : m,:]\n",
    "        mini_batch = (mini_batch_X, mini_batch_Y)\n",
    "        mini_batches.append(mini_batch)\n",
    "    \n",
    "    return mini_batches"
   ]
  },
  {
   "cell_type": "code",
   "execution_count": 209,
   "metadata": {
    "collapsed": true
   },
   "outputs": [],
   "source": [
    "def model(X_train, Y_train, X_test, Y_test, learning_rate = 0.009, num_epochs = 100, minibatch_size = 100, print_cost = True , print_cost_per = 5):\n",
    "    \n",
    "    ops.reset_default_graph()\n",
    "    (m, n_H0, n_W0, n_C0) = X_train.shape             \n",
    "    n_y = Y_train.shape[1]                            \n",
    "    costs = [] \n",
    "    \n",
    "    X, Y = create_placeholders(n_H0, n_W0, n_C0, n_y)\n",
    "    \n",
    "    parameters = initialize_parameters()\n",
    "    \n",
    "    Z3 = forward_propagation(X, parameters)\n",
    "    \n",
    "    cost = compute_cost(Z3, Y)\n",
    "    \n",
    "    optimizer = tf.train.AdamOptimizer(learning_rate=learning_rate).minimize(cost)\n",
    "    \n",
    "    init = tf.global_variables_initializer()\n",
    "    \n",
    "    with tf.Session() as sess:\n",
    "        sess.run(init)\n",
    "        for epoch in range(num_epochs):\n",
    "            minibatch_cost = 0.\n",
    "            num_minibatches = int(m / minibatch_size)\n",
    "            minibatches = random_mini_batches(X_train, Y_train, minibatch_size)\n",
    "\n",
    "            for minibatch in minibatches:\n",
    "                (minibatch_X, minibatch_Y) = minibatch\n",
    "                _ , temp_cost = sess.run([optimizer, cost], feed_dict={X:minibatch_X, Y:minibatch_Y})                \n",
    "                minibatch_cost += temp_cost / num_minibatches\n",
    "                \n",
    "            if print_cost == True and epoch % print_cost_per == 0:\n",
    "                print (\"Cost after epoch %i: %f\" % (epoch, minibatch_cost))\n",
    "            if print_cost == True and epoch % 1 == 0:\n",
    "                costs.append(minibatch_cost)\n",
    "               \n",
    "        plt.plot(np.squeeze(costs))\n",
    "        plt.ylabel('cost')\n",
    "        plt.xlabel('iterations (per tens)')\n",
    "        plt.title(\"Learning rate =\" + str(learning_rate))\n",
    "        plt.show()\n",
    "\n",
    "        predict_op = tf.argmax(Z3, 1)\n",
    "        correct_prediction = tf.equal(predict_op, tf.argmax(Y, 1))\n",
    "        \n",
    "        accuracy = tf.reduce_mean(tf.cast(correct_prediction, \"float\"))\n",
    "        print(accuracy)\n",
    "        train_accuracy = accuracy.eval({X: X_train, Y: Y_train})\n",
    "        test_accuracy = accuracy.eval({X: X_test, Y: Y_test})\n",
    "        print(\"Train Accuracy:\", train_accuracy)\n",
    "        print(\"Test Accuracy:\", test_accuracy)\n",
    "                \n",
    "        return train_accuracy, test_accuracy, parameters"
   ]
  },
  {
   "cell_type": "code",
   "execution_count": 210,
   "metadata": {},
   "outputs": [
    {
     "name": "stdout",
     "output_type": "stream",
     "text": [
      "Cost after epoch 0: 1.042676\n",
      "Cost after epoch 5: 0.349514\n",
      "Cost after epoch 10: 0.312212\n",
      "Cost after epoch 15: 0.295604\n",
      "Cost after epoch 20: 0.289101\n",
      "Cost after epoch 25: 0.286879\n",
      "Cost after epoch 30: 0.279748\n",
      "Cost after epoch 35: 0.279743\n",
      "Cost after epoch 40: 0.276218\n",
      "Cost after epoch 45: 0.274697\n",
      "Cost after epoch 50: 0.274923\n",
      "Cost after epoch 55: 0.274978\n",
      "Cost after epoch 60: 0.271697\n",
      "Cost after epoch 65: 0.266611\n",
      "Cost after epoch 70: 0.265994\n",
      "Cost after epoch 75: 0.266185\n",
      "Cost after epoch 80: 0.265446\n",
      "Cost after epoch 85: 0.265459\n",
      "Cost after epoch 90: 0.262028\n",
      "Cost after epoch 95: 0.262358\n"
     ]
    },
    {
     "data": {
      "image/png": "[encoded data removed]",
      "text/plain": [
       "<matplotlib.figure.Figure at 0x2034c80f0>"
      ]
     },
     "metadata": {},
     "output_type": "display_data"
    },
    {
     "name": "stdout",
     "output_type": "stream",
     "text": [
      "Tensor(\"Mean_1:0\", shape=(), dtype=float32)\n",
      "Train Accuracy: 0.923637\n",
      "Test Accuracy: 0.9255\n"
     ]
    }
   ],
   "source": [
    "_, _, parameters = model(X_train, Y_train, X_test, Y_test)"
   ]
  },
  {
   "cell_type": "code",
   "execution_count": 182,
   "metadata": {},
   "outputs": [
    {
     "name": "stdout",
     "output_type": "stream",
     "text": [
      "Cost after epoch 0: 1.466360\n",
      "Cost after epoch 5: 0.469060\n",
      "Cost after epoch 10: 0.389163\n",
      "Cost after epoch 15: 0.347293\n",
      "Cost after epoch 20: 0.328314\n",
      "Cost after epoch 25: 0.318281\n",
      "Cost after epoch 30: 0.309632\n",
      "Cost after epoch 35: 0.299385\n",
      "Cost after epoch 40: 0.291452\n",
      "Cost after epoch 45: 0.286093\n",
      "Cost after epoch 50: 0.279736\n",
      "Cost after epoch 55: 0.273509\n",
      "Cost after epoch 60: 0.267973\n",
      "Cost after epoch 65: 0.265327\n",
      "Cost after epoch 70: 0.264216\n",
      "Cost after epoch 75: 0.262213\n",
      "Cost after epoch 80: 0.259813\n",
      "Cost after epoch 85: 0.257459\n",
      "Cost after epoch 90: 0.256909\n",
      "Cost after epoch 95: 0.256307\n"
     ]
    },
    {
     "data": {
      "image/png": "[encoded data removed]",
      "text/plain": [
       "<matplotlib.figure.Figure at 0x2003d0c50>"
      ]
     },
     "metadata": {},
     "output_type": "display_data"
    },
    {
     "name": "stdout",
     "output_type": "stream",
     "text": [
      "Tensor(\"Mean_1:0\", shape=(), dtype=float32)\n",
      "Train Accuracy: 0.921873\n",
      "Test Accuracy: 0.9202\n"
     ]
    }
   ],
   "source": [
    "_, _, parameters = model(X_train, Y_train, X_test, Y_test,learning_rate=0.003)"
   ]
  },
  {
   "cell_type": "code",
   "execution_count": 184,
   "metadata": {},
   "outputs": [
    {
     "name": "stdout",
     "output_type": "stream",
     "text": [
      "Cost after epoch 0: 2.211343\n",
      "Cost after epoch 5: 0.984147\n",
      "Cost after epoch 10: 0.767081\n",
      "Cost after epoch 15: 0.637898\n",
      "Cost after epoch 20: 0.544086\n",
      "Cost after epoch 25: 0.490668\n",
      "Cost after epoch 30: 0.457157\n",
      "Cost after epoch 35: 0.434121\n",
      "Cost after epoch 40: 0.415058\n",
      "Cost after epoch 45: 0.398417\n",
      "Cost after epoch 50: 0.379766\n",
      "Cost after epoch 55: 0.361623\n",
      "Cost after epoch 60: 0.347874\n",
      "Cost after epoch 65: 0.336039\n",
      "Cost after epoch 70: 0.326922\n",
      "Cost after epoch 75: 0.321051\n",
      "Cost after epoch 80: 0.315019\n",
      "Cost after epoch 85: 0.313096\n",
      "Cost after epoch 90: 0.311048\n",
      "Cost after epoch 95: 0.308341\n"
     ]
    },
    {
     "data": {
      "image/png": "[encoded data removed]",
      "text/plain": [
       "<matplotlib.figure.Figure at 0x20040f0f0>"
      ]
     },
     "metadata": {},
     "output_type": "display_data"
    },
    {
     "name": "stdout",
     "output_type": "stream",
     "text": [
      "Tensor(\"Mean_1:0\", shape=(), dtype=float32)\n",
      "Train Accuracy: 0.902182\n",
      "Test Accuracy: 0.9056\n"
     ]
    }
   ],
   "source": [
    "_, _, parameters = model(X_train, Y_train, X_test, Y_test,learning_rate=0.003, minibatch_size=1000)"
   ]
  },
  {
   "cell_type": "code",
   "execution_count": 185,
   "metadata": {},
   "outputs": [
    {
     "name": "stdout",
     "output_type": "stream",
     "text": [
      "Cost after epoch 0: 2.103384\n",
      "Cost after epoch 5: 0.648131\n",
      "Cost after epoch 10: 0.501669\n",
      "Cost after epoch 15: 0.424561\n",
      "Cost after epoch 20: 0.391601\n",
      "Cost after epoch 25: 0.376510\n",
      "Cost after epoch 30: 0.368938\n",
      "Cost after epoch 35: 0.358018\n",
      "Cost after epoch 40: 0.350385\n",
      "Cost after epoch 45: 0.344025\n",
      "Cost after epoch 50: 0.338548\n",
      "Cost after epoch 55: 0.335783\n",
      "Cost after epoch 60: 0.333187\n",
      "Cost after epoch 65: 0.327838\n",
      "Cost after epoch 70: 0.326384\n",
      "Cost after epoch 75: 0.325245\n",
      "Cost after epoch 80: 0.320493\n",
      "Cost after epoch 85: 0.317579\n",
      "Cost after epoch 90: 0.319540\n",
      "Cost after epoch 95: 0.312029\n"
     ]
    },
    {
     "data": {
      "image/png": "[encoded data removed]",
      "text/plain": [
       "<matplotlib.figure.Figure at 0x2009a47f0>"
      ]
     },
     "metadata": {},
     "output_type": "display_data"
    },
    {
     "name": "stdout",
     "output_type": "stream",
     "text": [
      "Tensor(\"Mean_1:0\", shape=(), dtype=float32)\n",
      "Train Accuracy: 0.901655\n",
      "Test Accuracy: 0.9064\n"
     ]
    },
    {
     "data": {
      "text/plain": [
       "(0.90165502,\n",
       " 0.90640014,\n",
       " {'W1': <tf.Variable 'W1:0' shape=(2, 2, 1, 8) dtype=float32_ref>,\n",
       "  'W2': <tf.Variable 'W2:0' shape=(2, 2, 8, 16) dtype=float32_ref>})"
      ]
     },
     "execution_count": 185,
     "metadata": {},
     "output_type": "execute_result"
    }
   ],
   "source": [
    "model(X_train, Y_train, X_test, Y_test,learning_rate=0.009, minibatch_size=1000)"
   ]
  },
  {
   "cell_type": "code",
   "execution_count": 186,
   "metadata": {},
   "outputs": [
    {
     "name": "stdout",
     "output_type": "stream",
     "text": [
      "Cost after epoch 0: 3.607090\n",
      "Cost after epoch 5: 3.399872\n",
      "Cost after epoch 10: 3.283303\n",
      "Cost after epoch 15: 3.063291\n",
      "Cost after epoch 20: 2.723522\n",
      "Cost after epoch 25: 2.377064\n",
      "Cost after epoch 30: 2.112476\n",
      "Cost after epoch 35: 1.949345\n",
      "Cost after epoch 40: 1.836875\n",
      "Cost after epoch 45: 1.757300\n",
      "Cost after epoch 50: 1.696922\n",
      "Cost after epoch 55: 1.652940\n",
      "Cost after epoch 60: 1.618912\n",
      "Cost after epoch 65: 1.585733\n",
      "Cost after epoch 70: 1.556843\n",
      "Cost after epoch 75: 1.525749\n",
      "Cost after epoch 80: 1.498550\n",
      "Cost after epoch 85: 1.470703\n",
      "Cost after epoch 90: 1.442780\n",
      "Cost after epoch 95: 1.412123\n"
     ]
    },
    {
     "data": {
      "image/png": "[encoded data removed]",
      "text/plain": [
       "<matplotlib.figure.Figure at 0x200a319b0>"
      ]
     },
     "metadata": {},
     "output_type": "display_data"
    },
    {
     "name": "stdout",
     "output_type": "stream",
     "text": [
      "Tensor(\"Mean_1:0\", shape=(), dtype=float32)\n",
      "Train Accuracy: 0.683346\n",
      "Test Accuracy: 0.6881\n"
     ]
    }
   ],
   "source": [
    "_, _, parameters = model(X_train, Y_train, X_test, Y_test,learning_rate=0.005, minibatch_size=20000)"
   ]
  },
  {
   "cell_type": "code",
   "execution_count": 190,
   "metadata": {},
   "outputs": [
    {
     "name": "stdout",
     "output_type": "stream",
     "text": [
      "Cost after epoch 0: 3.530328\n",
      "Cost after epoch 50: 1.172444\n",
      "Cost after epoch 100: 0.893744\n",
      "Cost after epoch 150: 0.745415\n",
      "Cost after epoch 200: 0.654074\n",
      "Cost after epoch 250: 0.591564\n",
      "Cost after epoch 300: 0.558293\n",
      "Cost after epoch 350: 0.540511\n",
      "Cost after epoch 400: 0.533421\n",
      "Cost after epoch 450: 0.521375\n",
      "Cost after epoch 500: 0.509807\n",
      "Cost after epoch 550: 0.506249\n",
      "Cost after epoch 600: 0.518302\n",
      "Cost after epoch 650: 0.487861\n",
      "Cost after epoch 700: 0.467658\n",
      "Cost after epoch 750: 0.456851\n",
      "Cost after epoch 800: 0.455939\n",
      "Cost after epoch 850: 0.446157\n",
      "Cost after epoch 900: 0.442891\n",
      "Cost after epoch 950: 0.427236\n"
     ]
    },
    {
     "data": {
      "image/png": "[encoded data removed]",
      "text/plain": [
       "<matplotlib.figure.Figure at 0x2001660f0>"
      ]
     },
     "metadata": {},
     "output_type": "display_data"
    },
    {
     "name": "stdout",
     "output_type": "stream",
     "text": [
      "Tensor(\"Mean_1:0\", shape=(), dtype=float32)\n",
      "Train Accuracy: 0.9078\n",
      "Test Accuracy: 0.9087\n"
     ]
    }
   ],
   "source": [
    "_, _, parameters = model(X_train, Y_train, X_test, Y_test,learning_rate=0.01, minibatch_size=25000, num_epochs=1000, print_cost_per = 50)"
   ]
  },
  {
   "cell_type": "code",
   "execution_count": null,
   "metadata": {
    "collapsed": true
   },
   "outputs": [],
   "source": []
  }
 ],
 "metadata": {
  "kernelspec": {
   "display_name": "Python 3",
   "language": "python",
   "name": "python3"
  },
  "language_info": {
   "codemirror_mode": {
    "name": "ipython",
    "version": 3
   },
   "file_extension": ".py",
   "mimetype": "text/x-python",
   "name": "python",
   "nbconvert_exporter": "python",
   "pygments_lexer": "ipython3",
   "version": "3.5.3"
  }
 },
 "nbformat": 4,
 "nbformat_minor": 2
}
